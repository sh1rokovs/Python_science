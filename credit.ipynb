{
 "cells": [
  {
   "cell_type": "markdown",
   "metadata": {},
   "source": [
    "<h1 style=\"text-align:center\">Выплаты по кредиту. Решение трансцендентного уравнения</h1>\n",
    "\n",
    "<p style=\"text-align:center\">Нет входных данных<br>\n",
    "Нет выходных данных<br>\n",
    "Лимит по времени: 100 с<br>\n",
    "Лимит по памяти: 128 МБ<br></p>\n",
    "\n",
    "<h2>Условие</h2>\n",
    "<p>Предположим, что кто-то желает взять кредит на сумму $100000. Он выбирает среди следующих возможностей:</p>\n",
    "\n",
    "<ol style=\"margin-left:10%\">\n",
    "    <li>взять кредит на 10 лет с ежемесячными выплатами в $1500;</li>\n",
    "    <li>взять кредит на 15 лет с ежемесячными выплатами в $1250;</li>\n",
    "    <li>взять кредит на 20 лет с ежемесячными выплатами в $1160.</li>\n",
    "</ol>\n",
    "\n",
    "<p>Какой кредит выгоднее брать?<br>\n",
    "Можно просто вычислить переплату, а можно еще учесть процентные ставки.<br>\n",
    "Сами процентные ставки здесь не указаны, но можно их найти из основного финансового уравнения:</p>\n",
    "\n",
    "$$\n",
    "{\\rm PV}\\, (1+i)^n + {\\rm PMT}\\, (1+i)^{n-1} + {\\rm PMT}\\, (1+i)^{n-2} + \\dots + {\\rm PMT} + {\\rm FV} = 0, \\tag{1}\n",
    "$$\n",
    "\n",
    "<p>связывающего следующие величины:</p>\n",
    "\n",
    "<ul style=\"margin-left:10%\">\n",
    "    <li>PV - величина кредита (present value);</li>\n",
    "    <li>FV - баланс после n платежей (future value);</li>\n",
    "    <li>PMT - величина периодического платежа со знаком минус (payment);</li>\n",
    "    <li>n - количество платежей;</li>\n",
    "    <li>i - процентная ставка (interest rate).</li>\n",
    "</ul>\n",
    "\n",
    "<p>Например, для случая 1):</p>\n",
    "\n",
    "<ul style=\"margin-left:10%\">\n",
    "    <li>PV = 100000;</li>\n",
    "    <li>FV = 0 (после всех платежей банк и частное лицо друг другу ничего не должны);</li>\n",
    "    <li>PMT = −1500;</li>\n",
    "    <li>n = 10×12 = 120.</li>\n",
    "</ul>\n",
    "\n",
    "<p>Используя формулу для суммы элементов геометрической прогрессии, уравнение (1) запишем в следующем виде:</p>\n",
    "\n",
    "$$\n",
    "{\\rm PV}\\, (1+i)^n + {\\rm PMT}\\, \\frac{(1+i)^n - 1}{i} + {\\rm FV} = 0, \\tag{2}\n",
    "$$\n",
    "\n",
    "<p>Относительно i это уравнение в общем случае аналитические решено быть не может, поэтому надо использовать численные методы.</p>\n",
    "\n",
    "<ol style=\"margin-left:10%\">\n",
    "    <li>Написать функцию, решающее уравнение (2). Ваша функция должна вызывать scipy.optimize.brentq. Можете воспользоваться другим методом. Обоснуйте свой выбор.</li>\n",
    "    <li>Рассчитать годовые процентные ставки для примеров 1)-3). Годовая процентная ставка равна i (year) = mi, где m - количество платежей в год (в нашем случае m = 12).</li>\n",
    "    <li>Сравнить процентные ставки. Какой кредитный план выбрали бы вы?</li>\n",
    "</ol>\n",
    "\n",
    "<p><b>Замечание.</b> Уравнения (1), (2) можно использовать и для рассчета выплат по вкладам. В этом случае PV < 0, PMT ≥ 0.</p>"
   ]
  },
  {
   "cell_type": "code",
   "execution_count": 23,
   "metadata": {},
   "outputs": [],
   "source": [
    "import numpy as np\n",
    "import scipy as sp\n",
    "from scipy.optimize import brentq"
   ]
  },
  {
   "cell_type": "code",
   "execution_count": 24,
   "metadata": {},
   "outputs": [],
   "source": [
    "pv = 100000\n",
    "fv = 0\n",
    "pmt1 = -1500\n",
    "n1 = 10 * 12\n",
    "pmt2 = -1250\n",
    "n2 = 15 * 12\n",
    "pmt3 = -1160\n",
    "n3 = 20 * 12"
   ]
  },
  {
   "cell_type": "code",
   "execution_count": 25,
   "metadata": {},
   "outputs": [],
   "source": [
    "def sec_equation_first(i):\n",
    "    return pv * (1 + i) ** n1 + pmt1 * (((1 + i) ** n1 - 1) / i) + fv \n",
    "def sec_equation_second(i):\n",
    "    return pv * (1 + i) ** n2 + pmt2 * (((1 + i) ** n2 - 1) / i) + fv \n",
    "def sec_equation_third(i):\n",
    "    return pv * (1 + i) ** n3 + pmt3 * (((1 + i) ** n3 - 1) / i) + fv\n",
    "\n",
    "def def_solve(pv, pmt, n, fv):\n",
    "    def fun(i):\n",
    "        return pv * (1 + i) ** n + pmt * ((((1 + i) ** n) - 1) / i) + fv\n",
    "    return brentq(fun, 0.001, 1.0)"
   ]
  },
  {
   "cell_type": "code",
   "execution_count": 26,
   "metadata": {},
   "outputs": [
    {
     "name": "stdout",
     "output_type": "stream",
     "text": [
      "1 solutin: 0.010930603939868333\n",
      "2 solution: 0.01063980717924384\n",
      "3 solution: 0.010697698792848072\n"
     ]
    }
   ],
   "source": [
    "solution_one = brentq(sec_equation_first, 0.01, 1.0)\n",
    "solution_second = brentq(sec_equation_second, 0.01, 1.0)\n",
    "solution_third = brentq(sec_equation_third, 0.01, 1.0)\n",
    "print(f'1 solutin: {solution_one}')\n",
    "print(f'2 solution: {solution_second}')\n",
    "print(f'3 solution: {solution_third}')"
   ]
  },
  {
   "cell_type": "code",
   "execution_count": 29,
   "metadata": {},
   "outputs": [
    {
     "name": "stdout",
     "output_type": "stream",
     "text": [
      "1. Месячный процент: 0.010930603939676818\n",
      "2. Месячный процент: 0.01063980717901046\n",
      "3. Месячный процент: 0.010697698792974464\n"
     ]
    }
   ],
   "source": [
    "month_procent1 = def_solve(pv, pmt1, n1, fv)\n",
    "month_procent2 = def_solve(pv, pmt2, n2, fv)\n",
    "month_procent3 = def_solve(pv, pmt3, n3, fv)\n",
    "print(f'1. Ежемесячный процент: {month_procent1}')\n",
    "print(f'2. Ежемесячный процент: {month_procent2}')\n",
    "print(f'3. Ежемесячный процент: {month_procent3}')"
   ]
  },
  {
   "cell_type": "code",
   "execution_count": 28,
   "metadata": {},
   "outputs": [
    {
     "name": "stdout",
     "output_type": "stream",
     "text": [
      "Кредит на 10 лет, годовая ставка = 13.11672472761218%\n",
      "Кредит на 15 лет, годовая ставка = 12.767768614812553%\n",
      "Кредит на 20 лет, годовая ставка = 12.837238551569358%\n"
     ]
    }
   ],
   "source": [
    "year_procent1 = 12 * month_procent1\n",
    "year_procent2 = 12 * month_procent2\n",
    "year_procent3 = 12 * month_procent3\n",
    "print(f'Кредит на 10 лет, годовая ставка = {year_procent1 * 100}%')\n",
    "print(f'Кредит на 15 лет, годовая ставка = {year_procent2 * 100}%')\n",
    "print(f'Кредит на 20 лет, годовая ставка = {year_procent3 * 100}%')"
   ]
  },
  {
   "cell_type": "markdown",
   "metadata": {},
   "source": [
    "## Вывод\n",
    "\n",
    "Годовые ставки для кредита на сумму $\\$100000$. составили:\n",
    "* $13.12 \\% $ для варианта 1\n",
    "* $12.77 \\% $ для варианта 2\n",
    "* $12.84 \\% $ для варианта 3\n",
    "\n",
    "Из данных вариантов наиболее выгодным в плане годовой ставки является 2 вариант."
   ]
  }
 ],
 "metadata": {
  "kernelspec": {
   "display_name": "Python 3.10.7 64-bit",
   "language": "python",
   "name": "python3"
  },
  "language_info": {
   "codemirror_mode": {
    "name": "ipython",
    "version": 3
   },
   "file_extension": ".py",
   "mimetype": "text/x-python",
   "name": "python",
   "nbconvert_exporter": "python",
   "pygments_lexer": "ipython3",
   "version": "3.10.7"
  },
  "orig_nbformat": 4,
  "vscode": {
   "interpreter": {
    "hash": "db6aa72fdc1589c2df27b2c2bedb9bd929908353dab6c2778e91a96b96e474f0"
   }
  }
 },
 "nbformat": 4,
 "nbformat_minor": 2
}
